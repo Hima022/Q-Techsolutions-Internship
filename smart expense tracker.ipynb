{
 "cells": [
  {
   "cell_type": "code",
   "execution_count": 34,
   "id": "91d3d1f5",
   "metadata": {},
   "outputs": [],
   "source": [
    "import sqlite3\n",
    "import pandas as pd\n",
    "import matplotlib.pyplot as plt"
   ]
  },
  {
   "cell_type": "code",
   "execution_count": 35,
   "id": "d5f9ee14",
   "metadata": {},
   "outputs": [],
   "source": [
    "conn = sqlite3.connect('expenses.db')\n",
    "cursor = conn.cursor()"
   ]
  },
  {
   "cell_type": "code",
   "execution_count": 36,
   "id": "34b1f51f",
   "metadata": {},
   "outputs": [],
   "source": [
    "# Create a table for expenses if it doesn't exist\n",
    "cursor.execute('''\n",
    "CREATE TABLE IF NOT EXISTS expenses (\n",
    "    id INTEGER PRIMARY KEY AUTOINCREMENT,\n",
    "    amount REAL,\n",
    "    category TEXT,\n",
    "    description TEXT,\n",
    "    date TEXT\n",
    ")\n",
    "''')\n",
    "conn.commit()"
   ]
  },
  {
   "cell_type": "code",
   "execution_count": 37,
   "id": "1131b185",
   "metadata": {},
   "outputs": [],
   "source": [
    "def add_expense(amount, category, description, date):\n",
    "    cursor.execute('''\n",
    "    INSERT INTO expenses (amount, category, description, date)\n",
    "    VALUES (100,200,300)\n",
    "    ''', (amount, category, description, date))\n",
    "    conn.commit()"
   ]
  },
  {
   "cell_type": "code",
   "execution_count": 38,
   "id": "a61d0ded",
   "metadata": {},
   "outputs": [],
   "source": [
    "def edit_expense(expense_id, amount, category, description, date):\n",
    "    cursor.execute('''\n",
    "    UPDATE expenses\n",
    "    SET amount = ?, category = ?, description = ?, date = ?\n",
    "    WHERE id = ?\n",
    "    ''', (amount, category, description, date, expense_id))\n",
    "    conn.commit()"
   ]
  },
  {
   "cell_type": "code",
   "execution_count": 39,
   "id": "6f9aad22",
   "metadata": {},
   "outputs": [],
   "source": [
    "def delete_expense(expense_id):\n",
    "    cursor.execute('''\n",
    "    DELETE FROM expenses WHERE id = ?\n",
    "    ''', (expense_id,))\n",
    "    conn.commit()"
   ]
  },
  {
   "cell_type": "code",
   "execution_count": 40,
   "id": "45ffda45",
   "metadata": {},
   "outputs": [],
   "source": [
    "def view_expenses():\n",
    "    cursor.execute('SELECT * FROM expenses')\n",
    "    return cursor.fetchall()"
   ]
  },
  {
   "cell_type": "code",
   "execution_count": 41,
   "id": "3c9356d8",
   "metadata": {},
   "outputs": [],
   "source": [
    "def generate_monthly_report(month, year):\n",
    "    cursor.execute('''\n",
    "    SELECT SUM(amount), category FROM expenses\n",
    "    WHERE strftime('%m', date) = ? AND strftime('%Y', date) = ?\n",
    "    GROUP BY category\n",
    "    ''', (month, year))\n",
    "    return cursor.fetchall()"
   ]
  },
  {
   "cell_type": "code",
   "execution_count": 42,
   "id": "6a978d44",
   "metadata": {},
   "outputs": [],
   "source": [
    "def visualize_expenses(month, year):\n",
    "    report_data = generate_monthly_report(month, year)\n",
    "    categories, amounts = zip(*report_data)\n",
    "\n",
    "    plt.figure(figsize=(10, 6))\n",
    "    plt.bar(categories, amounts, color='blue')\n",
    "    plt.title(f'Expenses for {month}/{year}')\n",
    "    plt.xlabel('Category')\n",
    "    plt.ylabel('Amount')\n",
    "    plt.xticks(rotation=45)\n",
    "    plt.tight_layout()\n",
    "    plt.show()\n"
   ]
  },
  {
   "cell_type": "code",
   "execution_count": 43,
   "id": "36480fd3",
   "metadata": {},
   "outputs": [],
   "source": [
    "# Adding expenses\n",
    "add_expense(150, 'Food', 'Lunch', '2024-09-01')\n",
    "add_expense(100, 'Transport', 'Bus ticket', '2024-09-02')\n",
    "add_expense(260, 'Food', 'Snacks', '2024-09-03')\n",
    "add_expense(200, 'Utilities', 'Electricity bill', '2024-09-04')\n",
    "add_expense(300, 'bills', 'house rent', '2024-09-05')"
   ]
  },
  {
   "cell_type": "code",
   "execution_count": 44,
   "id": "01c7c326",
   "metadata": {},
   "outputs": [],
   "source": [
    "edit_expense(1, 60, 'Food', 'Lunch at restaurant', '2024-09-01')"
   ]
  },
  {
   "cell_type": "code",
   "execution_count": 45,
   "id": "c308f01a",
   "metadata": {},
   "outputs": [
    {
     "name": "stdout",
     "output_type": "stream",
     "text": [
      "All Expenses:\n",
      "(1, 60.0, 'Food', 'Lunch at restaurant', '2024-09-01')\n",
      "(2, 100.0, 'Transport', 'Bus ticket', '2024-09-02')\n",
      "(3, 20.0, 'Food', 'Snacks', '2024-09-03')\n",
      "(4, 200.0, 'Utilities', 'Electricity bill', '2024-09-04')\n",
      "(5, 300.0, 'bills', 'house rent', '2024-09-05')\n",
      "(6, 150.0, 'Food', 'Lunch', '2024-09-01')\n",
      "(7, 500.0, 'Transport', 'Bus ticket', '2024-09-02')\n",
      "(8, 260.0, 'Food', 'Snacks', '2024-09-03')\n",
      "(9, 200.0, 'Utilities', 'Electricity bill', '2024-09-04')\n",
      "(10, 300.0, 'bills', 'house rent', '2024-09-05')\n",
      "(11, 150.0, 'Food', 'Lunch', '2024-09-01')\n",
      "(12, 100.0, 'Transport', 'Bus ticket', '2024-09-02')\n",
      "(13, 260.0, 'Food', 'Snacks', '2024-09-03')\n",
      "(14, 200.0, 'Utilities', 'Electricity bill', '2024-09-04')\n",
      "(15, 300.0, 'bills', 'house rent', '2024-09-05')\n"
     ]
    }
   ],
   "source": [
    "print(\"All Expenses:\")\n",
    "for expense in view_expenses():\n",
    "    print(expense)\n"
   ]
  },
  {
   "cell_type": "code",
   "execution_count": 46,
   "id": "0ce31312",
   "metadata": {},
   "outputs": [
    {
     "name": "stdout",
     "output_type": "stream",
     "text": [
      "\n",
      "Monthly Report:\n",
      "(900.0, 'Food')\n",
      "(700.0, 'Transport')\n",
      "(600.0, 'Utilities')\n",
      "(900.0, 'bills')\n"
     ]
    }
   ],
   "source": [
    "month = '09'  # September\n",
    "year = '2024'  # 2024\n",
    "print(\"\\nMonthly Report:\")\n",
    "monthly_report = generate_monthly_report(month, year)\n",
    "for category in monthly_report:\n",
    "    print(category)\n"
   ]
  },
  {
   "cell_type": "code",
   "execution_count": 47,
   "id": "29fbf1d1",
   "metadata": {},
   "outputs": [
    {
     "data": {
      "image/png": "[encoded data removed]",
      "text/plain": [
       "<Figure size 1000x600 with 1 Axes>"
      ]
     },
     "metadata": {},
     "output_type": "display_data"
    }
   ],
   "source": [
    "visualize_expenses(month, year)"
   ]
  },
  {
   "cell_type": "code",
   "execution_count": 48,
   "id": "c09f3776",
   "metadata": {},
   "outputs": [],
   "source": [
    "conn.close()"
   ]
  }
 ],
 "metadata": {
  "kernelspec": {
   "display_name": "base",
   "language": "python",
   "name": "python3"
  },
  "language_info": {
   "codemirror_mode": {
    "name": "ipython",
    "version": 3
   },
   "file_extension": ".py",
   "mimetype": "text/x-python",
   "name": "python",
   "nbconvert_exporter": "python",
   "pygments_lexer": "ipython3",
   "version": "3.12.4"
  }
 },
 "nbformat": 4,
 "nbformat_minor": 5
}
