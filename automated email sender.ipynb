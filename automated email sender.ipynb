{
 "cells": [
  {
   "cell_type": "code",
   "execution_count": 20,
   "id": "98ad2b23",
   "metadata": {},
   "outputs": [],
   "source": [
    "import smtplib\n",
    "from email.mime.multipart import MIMEMultipart\n",
    "from email.mime.text import MIMEText\n",
    "import schedule\n",
    "import time\n",
    "import datetime\n",
    "import threading\n",
    "from datetime import datetime\n",
    "import cv2  # OpenCV library (you can use this for event-based triggers, like detecting an image change)\n",
    "\n"
   ]
  },
  {
   "cell_type": "code",
   "execution_count": 21,
   "id": "b6a6b835",
   "metadata": {},
   "outputs": [],
   "source": [
    "# Function to send email\n",
    "def send_email(subject, body, recipient_email, sender_email, password):\n",
    "    try:\n",
    "        # Set up the MIME\n",
    "        message = MIMEMultipart()\n",
    "        message['From'] = sender_email\n",
    "        message['To'] = recipient_email\n",
    "        message['Subject'] = subject\n",
    "\n",
    "        # Attach the body with the message\n",
    "        message.attach(MIMEText(body, 'plain'))\n",
    "\n",
    "        # Create SMTP session for sending the mail\n",
    "        session = smtplib.SMTP('smtp.gmail.com', 587)  # Use Gmail's SMTP server\n",
    "        session.starttls()  # Enable security\n",
    "        session.ehlo()\n",
    "\n",
    "        with open('password.txt', 'r') as x:\n",
    "            password = x.read()\n",
    "\n",
    "        session.login('srihima491@gmail.com', password)  # Login with mail_id and password\n",
    "        text = message.as_string()\n",
    "        session.sendmail(sender_email, recipient_email, text)\n",
    "        session.quit()\n",
    "\n",
    "        print(f'Email sent to {recipient_email}')\n",
    "    except Exception as e:\n",
    "        print(f'Failed to send email. Error: {e}')\n",
    "\n"
   ]
  },
  {
   "cell_type": "code",
   "execution_count": 22,
   "id": "ca4f0e2b",
   "metadata": {},
   "outputs": [
    {
     "data": {
      "text/plain": [
       "Every 1 day at 09:00:00 do email_event() (last run: [never], next run: 2024-10-22 09:00:00)"
      ]
     },
     "execution_count": 22,
     "metadata": {},
     "output_type": "execute_result"
    }
   ],
   "source": [
    "# Function to be scheduled (could be used for event-based triggering)\n",
    "def email_event():\n",
    "    subject = \"Automated Email\"\n",
    "    body = f\"This is an automated email sent on {datetime.now().strftime('%Y-%m-%d %H:%M:%S')}.\"\n",
    "    recipient_email = \"recipient@example.com\"\n",
    "    sender_email = \"srihima491@gmail\"\n",
    "    password = \"Hima_491\"  # Use an app password for better security\n",
    "\n",
    "    send_email(subject, body, recipient_email, sender_email, password)\n",
    "\n",
    "# Schedule email sending at a specific time (e.g., every day at 9 AM)\n",
    "schedule.every().day.at(\"09:00\").do(email_event)"
   ]
  },
  {
   "cell_type": "code",
   "execution_count": 23,
   "id": "dc15fd6a",
   "metadata": {},
   "outputs": [],
   "source": [
    "def event_based_email():\n",
    "    cap = cv2.VideoCapture(0)  # Using the default camera (0)\n",
    "    \n",
    "    while True:\n",
    "        ret, frame = cap.read()\n",
    "        if ret:\n",
    "            # Display the live feed from the camera\n",
    "            cv2.imshow(\"Camera\", frame)\n",
    "            \n",
    "            # Wait for the 'q' key to be pressed to trigger the email\n",
    "            if cv2.waitKey(1) & 0xFF == ord('q'):\n",
    "                email_event()  # Send email when 'q' is pressed\n",
    "                break\n",
    "\n",
    "    cap.release()  # Release the camera\n",
    "    cv2.destroyAllWindows()  # Close all OpenCV windows\n",
    "\n",
    "\n"
   ]
  },
  {
   "cell_type": "code",
   "execution_count": 24,
   "id": "1afe134d",
   "metadata": {},
   "outputs": [
    {
     "data": {
      "text/plain": [
       "Every 1 day at 09:00:00 do email_event() (last run: [never], next run: 2024-10-22 09:00:00)"
      ]
     },
     "execution_count": 24,
     "metadata": {},
     "output_type": "execute_result"
    }
   ],
   "source": [
    "def run_scheduler():\n",
    "    while True:\n",
    "        schedule.run_pending()\n",
    "        time.sleep(1)\n",
    "\n",
    "# Schedule email sending at a specific time (e.g., every day at 9 AM)\n",
    "schedule.every().day.at(\"09:00\").do(email_event)\n",
    "\n"
   ]
  },
  {
   "cell_type": "code",
   "execution_count": 25,
   "id": "f24d7d07",
   "metadata": {},
   "outputs": [
    {
     "name": "stdout",
     "output_type": "stream",
     "text": [
      "Scheduler is running in the background.\n"
     ]
    }
   ],
   "source": [
    "# Start the scheduler in a background thread\n",
    "scheduler_thread = threading.Thread(target=run_scheduler)\n",
    "scheduler_thread.start()\n",
    "\n",
    "# Main program can continue running other tasks if needed\n",
    "print(\"Scheduler is running in the background.\")"
   ]
  }
 ],
 "metadata": {
  "kernelspec": {
   "display_name": "Python 3",
   "language": "python",
   "name": "python3"
  },
  "language_info": {
   "codemirror_mode": {
    "name": "ipython",
    "version": 3
   },
   "file_extension": ".py",
   "mimetype": "text/x-python",
   "name": "python",
   "nbconvert_exporter": "python",
   "pygments_lexer": "ipython3",
   "version": "3.9.13"
  }
 },
 "nbformat": 4,
 "nbformat_minor": 5
}
